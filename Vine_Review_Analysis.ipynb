{
  "cells": [
    {
      "cell_type": "markdown",
      "metadata": {
        "id": "view-in-github",
        "colab_type": "text"
      },
      "source": [
        "<a href=\"https://colab.research.google.com/github/kbyph/Amazon_Vine_Analysis/blob/main/Vine_Review_Analysis.ipynb\" target=\"_parent\"><img src=\"https://colab.research.google.com/assets/colab-badge.svg\" alt=\"Open In Colab\"/></a>"
      ]
    },
    {
      "cell_type": "code",
      "execution_count": null,
      "metadata": {
        "colab": {
          "base_uri": "https://localhost:8080/"
        },
        "id": "V58rxea0HqSa",
        "outputId": "ca0ca4a3-de93-49d3-9aee-7b7b1994d952"
      },
      "outputs": [
        {
          "name": "stdout",
          "output_type": "stream",
          "text": [
            "\r0% [Working]\r            \rHit:1 http://ppa.launchpad.net/c2d4u.team/c2d4u4.0+/ubuntu bionic InRelease\n",
            "\r0% [Connecting to archive.ubuntu.com (91.189.91.38)] [Connecting to security.ub\r0% [1 InRelease gpgv 15.9 kB] [Connecting to archive.ubuntu.com (91.189.91.38)]\r                                                                               \rHit:2 http://ppa.launchpad.net/cran/libgit2/ubuntu bionic InRelease\n",
            "\r0% [1 InRelease gpgv 15.9 kB] [Connecting to archive.ubuntu.com (91.189.91.38)]\r                                                                               \rHit:3 http://ppa.launchpad.net/deadsnakes/ppa/ubuntu bionic InRelease\n",
            "Hit:4 http://ppa.launchpad.net/graphics-drivers/ppa/ubuntu bionic InRelease\n",
            "Hit:5 http://security.ubuntu.com/ubuntu bionic-security InRelease\n",
            "Hit:6 http://archive.ubuntu.com/ubuntu bionic InRelease\n",
            "Hit:7 http://archive.ubuntu.com/ubuntu bionic-updates InRelease\n",
            "Hit:8 https://cloud.r-project.org/bin/linux/ubuntu bionic-cran40/ InRelease\n",
            "Hit:9 http://archive.ubuntu.com/ubuntu bionic-backports InRelease\n",
            "Ign:10 https://developer.download.nvidia.com/compute/machine-learning/repos/ubuntu1804/x86_64  InRelease\n",
            "Hit:11 https://developer.download.nvidia.com/compute/cuda/repos/ubuntu1804/x86_64  InRelease\n",
            "Hit:12 https://developer.download.nvidia.com/compute/machine-learning/repos/ubuntu1804/x86_64  Release\n",
            "Reading package lists... Done\n"
          ]
        }
      ],
      "source": [
        "import os\n",
        "# Find the latest version of spark 3.0 from http://www.apache.org/dist/spark/ and enter as the spark version\n",
        "# For example:\n",
        "# spark_version = 'spark-3.0.3'\n",
        "spark_version = 'spark-3.0.3'\n",
        "os.environ['SPARK_VERSION']=spark_version\n",
        "\n",
        "# Install Spark and Java\n",
        "!apt-get update\n",
        "!apt-get install openjdk-11-jdk-headless -qq > /dev/null\n",
        "!wget -q http://www.apache.org/dist/spark/$SPARK_VERSION/$SPARK_VERSION-bin-hadoop2.7.tgz\n",
        "!tar xf $SPARK_VERSION-bin-hadoop2.7.tgz\n",
        "!pip install -q findspark\n",
        "\n",
        "# Set Environment Variables\n",
        "import os\n",
        "os.environ[\"JAVA_HOME\"] = \"/usr/lib/jvm/java-11-openjdk-amd64\"\n",
        "os.environ[\"SPARK_HOME\"] = f\"/content/{spark_version}-bin-hadoop2.7\"\n",
        "\n",
        "# Start a SparkSession\n",
        "import findspark\n",
        "findspark.init()"
      ]
    },
    {
      "cell_type": "code",
      "execution_count": null,
      "metadata": {
        "colab": {
          "base_uri": "https://localhost:8080/"
        },
        "id": "_xKwTpATHqSe",
        "outputId": "bd77fe31-2e86-4c96-c77b-6d61a95e8766"
      },
      "outputs": [
        {
          "name": "stdout",
          "output_type": "stream",
          "text": [
            "--2022-08-10 03:32:26--  https://jdbc.postgresql.org/download/postgresql-42.2.16.jar\n",
            "Resolving jdbc.postgresql.org (jdbc.postgresql.org)... 72.32.157.228, 2001:4800:3e1:1::228\n",
            "Connecting to jdbc.postgresql.org (jdbc.postgresql.org)|72.32.157.228|:443... connected.\n",
            "HTTP request sent, awaiting response... 200 OK\n",
            "Length: 1002883 (979K) [application/java-archive]\n",
            "Saving to: ‘postgresql-42.2.16.jar.1’\n",
            "\n",
            "postgresql-42.2.16. 100%[===================>] 979.38K  1.59MB/s    in 0.6s    \n",
            "\n",
            "2022-08-10 03:32:28 (1.59 MB/s) - ‘postgresql-42.2.16.jar.1’ saved [1002883/1002883]\n",
            "\n"
          ]
        }
      ],
      "source": [
        "# Download the Postgres driver that will allow Spark to interact with Postgres.\n",
        "!wget https://jdbc.postgresql.org/download/postgresql-42.2.16.jar"
      ]
    },
    {
      "cell_type": "code",
      "execution_count": null,
      "metadata": {
        "id": "MMqDAjVS0KN9"
      },
      "outputs": [],
      "source": [
        "from pyspark.sql import SparkSession\n",
        "spark = SparkSession.builder.appName(\"M16-Amazon-Challenge\").config(\"spark.driver.extraClassPath\",\"/content/postgresql-42.2.16.jar\").getOrCreate()"
      ]
    },
    {
      "cell_type": "markdown",
      "metadata": {
        "id": "cyBsySGuY-9V"
      },
      "source": [
        "### Load Amazon Data into Spark DataFrame"
      ]
    },
    {
      "cell_type": "code",
      "execution_count": null,
      "metadata": {
        "colab": {
          "base_uri": "https://localhost:8080/"
        },
        "id": "CtCmBhQJY-9Z",
        "outputId": "8d69cb4d-30ea-4d97-99a2-d5f68eb5ecfd"
      },
      "outputs": [
        {
          "name": "stdout",
          "output_type": "stream",
          "text": [
            "+-----------+-----------+--------------+----------+--------------+--------------------+----------------+-----------+-------------+-----------+----+-----------------+--------------------+--------------------+-----------+\n",
            "|marketplace|customer_id|     review_id|product_id|product_parent|       product_title|product_category|star_rating|helpful_votes|total_votes|vine|verified_purchase|     review_headline|         review_body|review_date|\n",
            "+-----------+-----------+--------------+----------+--------------+--------------------+----------------+-----------+-------------+-----------+----+-----------------+--------------------+--------------------+-----------+\n",
            "|         US|   33670092|R1UUISQ1GKOJTI|B00EE62UAE|     583436067|Trademark Home Po...|            Home|          1|            0|          0|   N|                Y|                 Run|Don't buy it clap...| 2015-08-31|\n",
            "|         US|   13726692|R1HOJ9WE8VCVOD|B001APXO5C|     465035091|O2-Cool 10-Inch P...|            Home|          5|            9|          9|   N|                Y|Love it, really c...|Love this ,I boug...| 2015-08-31|\n",
            "|         US|   50131396| RDNGVXMWQN2TN|B002HFDLCK|     136507891|Hoover Vacuum Cle...|            Home|          5|            0|          0|   N|                Y|          Five Stars|Nice style, color...| 2015-08-31|\n",
            "|         US|   16046884|R3OM9COQMVTDJ2|B00PL9EFPQ|     631238459|Banksy Pile of Ri...|            Home|          2|            0|          0|   N|                Y|Love Banksy's wor...|Meeeh. Love Banks...| 2015-08-31|\n",
            "|         US|   11417282|R3OFUQVR4Y80Q9|B00B5TPVQS|     190431573|SkyScan Atomic Wa...|            Home|          4|            0|          0|   N|                N|A silent second h...|Review by John Cr...| 2015-08-31|\n",
            "|         US|   48013430|R2GD25SBBGRKPO|B00NQDGHDC|     124050883|Mellanni Bed Shee...|            Home|          5|            0|          0|   N|                Y|I am very pleased...|I am very pleased...| 2015-08-31|\n",
            "|         US|    7341516|R3RRSLYKVWH9WB|B00I3BYEXM|     933053612|Hippie Hobo Sling...|            Home|          5|            0|          0|   N|                Y|          Five Stars|LOVE THIS SO VERY...| 2015-08-31|\n",
            "|         US|   20696954|R2HMFAGJJU6NT3|B008QZD7RY|      77515396|OluKai Hokua Sand...|            Home|          5|            0|          0|   N|                Y|          Five Stars|           Love them| 2015-08-31|\n",
            "|         US|   28241302|R2QDRZATHBY4GY|B00TQ6MXE0|     267158600|Melrose Ivory Ant...|            Home|          1|            0|          0|   N|                Y|Not the color I e...|This is a nice sh...| 2015-08-31|\n",
            "|         US|   45444347|R107946YZK57Q2|B004O39RJ4|     473994651|Home Basics 6-Pie...|            Home|          2|            0|          0|   N|                Y|Two mugs came chi...|Two mugs came chi...| 2015-08-31|\n",
            "|         US|   15080335|R31EK6FUI5YAL1|B003LZ09C0|     945333576|La Crosse Technol...|            Home|          5|            0|          0|   N|                Y|          Five Stars|Works great, it a...| 2015-08-31|\n",
            "|         US|   12081067|R2PCO0R2FKDQLD|B00I56KQV4|     383995956|Cozy Beddings 3-P...|            Home|          5|            0|          0|   N|                Y|          Five Stars|Exactly as I expe...| 2015-08-31|\n",
            "|         US|   26317120|R3HR2Y7RR8NWL0|B00GS6ENAS|     255999883|Tools of the Trad...|            Home|          4|            0|          0|   N|                Y|          Four Stars|    met expectations| 2015-08-31|\n",
            "|         US|   37523392|R2D2NATNTV6VBD|B00S9X17SY|     142926812|Clara Clark Premi...|            Home|          3|            0|          0|   N|                Y|        Pretty color|Very silky feelin...| 2015-08-31|\n",
            "|         US|   36990227| RKB0AGB0GJ693|B001R1RXUG|     237680897|Honeywell HT-908 ...|            Home|          5|            0|          0|   N|                Y|          Five Stars|Works great for t...| 2015-08-31|\n",
            "|         US|    8273344| RN6VOEZIS9SRX|B008T19WSS|     395315543|2 pcs .925 Sterli...|            Home|          5|            0|          0|   N|                Y|          Five Stars|          love these| 2015-08-31|\n",
            "|         US|   45448526|R31I8XK53JBAQ2|B011A4X754|     751900773|Artficial Pachyve...|            Home|          4|            0|          0|   N|                Y|          Four Stars|Good length. Very...| 2015-08-31|\n",
            "|         US|   28088591|R2R2Y989GKB6QH|B00DDIKBQO|     764331420|Pinzon Blackout C...|            Home|          5|            0|          0|   N|                Y|          Five Stars|        Works great!| 2015-08-31|\n",
            "|         US|   20276397|R12WZKURAV2VEY|B00F3T165Q|     962537263|Rit Dye Liquid Dy...|            Home|          5|            0|          0|   N|                Y|            Love it!|Been using this f...| 2015-08-31|\n",
            "|         US|     123327| RX2EMR0I821HW|B006C6FC6S|     279696452|The Original Slee...|            Home|          2|            0|          0|   N|                Y|           Two Stars|Ehh. Not sure why...| 2015-08-31|\n",
            "+-----------+-----------+--------------+----------+--------------+--------------------+----------------+-----------+-------------+-----------+----+-----------------+--------------------+--------------------+-----------+\n",
            "only showing top 20 rows\n",
            "\n"
          ]
        }
      ],
      "source": [
        "from pyspark import SparkFiles\n",
        "url = \"https://s3.amazonaws.com/amazon-reviews-pds/tsv/amazon_reviews_us_Home_v1_00.tsv.gz\"\n",
        "spark.sparkContext.addFile(url)\n",
        "df = spark.read.option(\"encoding\", \"UTF-8\").csv(SparkFiles.get(\"\"), sep=\"\\t\", header=True, inferSchema=True)\n",
        "df.show()"
      ]
    },
    {
      "cell_type": "code",
      "execution_count": null,
      "metadata": {
        "colab": {
          "base_uri": "https://localhost:8080/"
        },
        "id": "C8REmY1aY-9u",
        "outputId": "e0db6ae5-df30-4ad4-9c82-e9a340d4f0a0"
      },
      "outputs": [
        {
          "name": "stdout",
          "output_type": "stream",
          "text": [
            "+-----------+-----------+--------------+----------+--------------+--------------------+----------------+-----------+-------------+-----------+----+-----------------+--------------------+--------------------+-----------+\n",
            "|marketplace|customer_id|     review_id|product_id|product_parent|       product_title|product_category|star_rating|helpful_votes|total_votes|vine|verified_purchase|     review_headline|         review_body|review_date|\n",
            "+-----------+-----------+--------------+----------+--------------+--------------------+----------------+-----------+-------------+-----------+----+-----------------+--------------------+--------------------+-----------+\n",
            "|         US|   33670092|R1UUISQ1GKOJTI|B00EE62UAE|     583436067|Trademark Home Po...|            Home|          1|            0|          0|   N|                Y|                 Run|Don't buy it clap...| 2015-08-31|\n",
            "|         US|   13726692|R1HOJ9WE8VCVOD|B001APXO5C|     465035091|O2-Cool 10-Inch P...|            Home|          5|            9|          9|   N|                Y|Love it, really c...|Love this ,I boug...| 2015-08-31|\n",
            "|         US|   50131396| RDNGVXMWQN2TN|B002HFDLCK|     136507891|Hoover Vacuum Cle...|            Home|          5|            0|          0|   N|                Y|          Five Stars|Nice style, color...| 2015-08-31|\n",
            "|         US|   16046884|R3OM9COQMVTDJ2|B00PL9EFPQ|     631238459|Banksy Pile of Ri...|            Home|          2|            0|          0|   N|                Y|Love Banksy's wor...|Meeeh. Love Banks...| 2015-08-31|\n",
            "|         US|   11417282|R3OFUQVR4Y80Q9|B00B5TPVQS|     190431573|SkyScan Atomic Wa...|            Home|          4|            0|          0|   N|                N|A silent second h...|Review by John Cr...| 2015-08-31|\n",
            "|         US|   48013430|R2GD25SBBGRKPO|B00NQDGHDC|     124050883|Mellanni Bed Shee...|            Home|          5|            0|          0|   N|                Y|I am very pleased...|I am very pleased...| 2015-08-31|\n",
            "|         US|    7341516|R3RRSLYKVWH9WB|B00I3BYEXM|     933053612|Hippie Hobo Sling...|            Home|          5|            0|          0|   N|                Y|          Five Stars|LOVE THIS SO VERY...| 2015-08-31|\n",
            "|         US|   20696954|R2HMFAGJJU6NT3|B008QZD7RY|      77515396|OluKai Hokua Sand...|            Home|          5|            0|          0|   N|                Y|          Five Stars|           Love them| 2015-08-31|\n",
            "|         US|   28241302|R2QDRZATHBY4GY|B00TQ6MXE0|     267158600|Melrose Ivory Ant...|            Home|          1|            0|          0|   N|                Y|Not the color I e...|This is a nice sh...| 2015-08-31|\n",
            "|         US|   45444347|R107946YZK57Q2|B004O39RJ4|     473994651|Home Basics 6-Pie...|            Home|          2|            0|          0|   N|                Y|Two mugs came chi...|Two mugs came chi...| 2015-08-31|\n",
            "|         US|   15080335|R31EK6FUI5YAL1|B003LZ09C0|     945333576|La Crosse Technol...|            Home|          5|            0|          0|   N|                Y|          Five Stars|Works great, it a...| 2015-08-31|\n",
            "|         US|   12081067|R2PCO0R2FKDQLD|B00I56KQV4|     383995956|Cozy Beddings 3-P...|            Home|          5|            0|          0|   N|                Y|          Five Stars|Exactly as I expe...| 2015-08-31|\n",
            "|         US|   26317120|R3HR2Y7RR8NWL0|B00GS6ENAS|     255999883|Tools of the Trad...|            Home|          4|            0|          0|   N|                Y|          Four Stars|    met expectations| 2015-08-31|\n",
            "|         US|   37523392|R2D2NATNTV6VBD|B00S9X17SY|     142926812|Clara Clark Premi...|            Home|          3|            0|          0|   N|                Y|        Pretty color|Very silky feelin...| 2015-08-31|\n",
            "|         US|   36990227| RKB0AGB0GJ693|B001R1RXUG|     237680897|Honeywell HT-908 ...|            Home|          5|            0|          0|   N|                Y|          Five Stars|Works great for t...| 2015-08-31|\n",
            "|         US|    8273344| RN6VOEZIS9SRX|B008T19WSS|     395315543|2 pcs .925 Sterli...|            Home|          5|            0|          0|   N|                Y|          Five Stars|          love these| 2015-08-31|\n",
            "|         US|   45448526|R31I8XK53JBAQ2|B011A4X754|     751900773|Artficial Pachyve...|            Home|          4|            0|          0|   N|                Y|          Four Stars|Good length. Very...| 2015-08-31|\n",
            "|         US|   28088591|R2R2Y989GKB6QH|B00DDIKBQO|     764331420|Pinzon Blackout C...|            Home|          5|            0|          0|   N|                Y|          Five Stars|        Works great!| 2015-08-31|\n",
            "|         US|   20276397|R12WZKURAV2VEY|B00F3T165Q|     962537263|Rit Dye Liquid Dy...|            Home|          5|            0|          0|   N|                Y|            Love it!|Been using this f...| 2015-08-31|\n",
            "|         US|     123327| RX2EMR0I821HW|B006C6FC6S|     279696452|The Original Slee...|            Home|          2|            0|          0|   N|                Y|           Two Stars|Ehh. Not sure why...| 2015-08-31|\n",
            "+-----------+-----------+--------------+----------+--------------+--------------------+----------------+-----------+-------------+-----------+----+-----------------+--------------------+--------------------+-----------+\n",
            "only showing top 20 rows\n",
            "\n"
          ]
        }
      ],
      "source": [
        "from pyspark.sql.functions import to_date\n",
        "# Read in the Review dataset as a DataFrame\n",
        "vine_reviews_clean_df = df.dropna()\n",
        "vine_reviews_clean_df.show()"
      ]
    },
    {
      "cell_type": "code",
      "execution_count": null,
      "metadata": {
        "colab": {
          "base_uri": "https://localhost:8080/"
        },
        "id": "B0TESUDRY-90",
        "outputId": "ce273c81-3061-4141-8906-df1c949a7d88"
      },
      "outputs": [
        {
          "name": "stdout",
          "output_type": "stream",
          "text": [
            "+--------------+-----------+-------------+-----------+----+-----------------+\n",
            "|     review_id|star_rating|helpful_votes|total_votes|vine|verified_purchase|\n",
            "+--------------+-----------+-------------+-----------+----+-----------------+\n",
            "|R1UUISQ1GKOJTI|          1|            0|          0|   N|                Y|\n",
            "|R1HOJ9WE8VCVOD|          5|            9|          9|   N|                Y|\n",
            "| RDNGVXMWQN2TN|          5|            0|          0|   N|                Y|\n",
            "|R3OM9COQMVTDJ2|          2|            0|          0|   N|                Y|\n",
            "|R3OFUQVR4Y80Q9|          4|            0|          0|   N|                N|\n",
            "|R2GD25SBBGRKPO|          5|            0|          0|   N|                Y|\n",
            "|R3RRSLYKVWH9WB|          5|            0|          0|   N|                Y|\n",
            "|R2HMFAGJJU6NT3|          5|            0|          0|   N|                Y|\n",
            "|R2QDRZATHBY4GY|          1|            0|          0|   N|                Y|\n",
            "|R107946YZK57Q2|          2|            0|          0|   N|                Y|\n",
            "|R31EK6FUI5YAL1|          5|            0|          0|   N|                Y|\n",
            "|R2PCO0R2FKDQLD|          5|            0|          0|   N|                Y|\n",
            "|R3HR2Y7RR8NWL0|          4|            0|          0|   N|                Y|\n",
            "|R2D2NATNTV6VBD|          3|            0|          0|   N|                Y|\n",
            "| RKB0AGB0GJ693|          5|            0|          0|   N|                Y|\n",
            "| RN6VOEZIS9SRX|          5|            0|          0|   N|                Y|\n",
            "|R31I8XK53JBAQ2|          4|            0|          0|   N|                Y|\n",
            "|R2R2Y989GKB6QH|          5|            0|          0|   N|                Y|\n",
            "|R12WZKURAV2VEY|          5|            0|          0|   N|                Y|\n",
            "| RX2EMR0I821HW|          2|            0|          0|   N|                Y|\n",
            "+--------------+-----------+-------------+-----------+----+-----------------+\n",
            "only showing top 20 rows\n",
            "\n"
          ]
        }
      ],
      "source": [
        "# Create the vine_table DataFrame\n",
        "vine_df = vine_reviews_clean_df.select([\"review_id\",\"star_rating\",\"helpful_votes\",\"total_votes\",\"vine\",\"verified_purchase\"])\n",
        "vine_df.show()"
      ]
    },
    {
      "cell_type": "code",
      "execution_count": null,
      "metadata": {
        "colab": {
          "base_uri": "https://localhost:8080/"
        },
        "id": "4FwXA6UvY-96",
        "outputId": "068c790a-ae33-4a34-9574-99808eb63c86"
      },
      "outputs": [
        {
          "name": "stdout",
          "output_type": "stream",
          "text": [
            "+--------------+-----------+-------------+-----------+----+-----------------+\n",
            "|     review_id|star_rating|helpful_votes|total_votes|vine|verified_purchase|\n",
            "+--------------+-----------+-------------+-----------+----+-----------------+\n",
            "|R27XX9MG7OWSSM|          5|           49|         51|   N|                Y|\n",
            "|R1I4IFDOW6IW9O|          3|           44|         47|   N|                Y|\n",
            "|R2LZAV3VMLGPGS|          3|           32|         33|   N|                Y|\n",
            "|R3FITR2BQI94RA|          5|           33|         38|   N|                Y|\n",
            "| RWYBT1R3KPD2M|          4|          142|        163|   N|                Y|\n",
            "| RE4023DS92U8H|          5|           26|         27|   N|                Y|\n",
            "|R25TLB0EXZ7DJZ|          5|           45|         46|   N|                Y|\n",
            "|R3BEQIBG1OQ7RT|          2|            3|         22|   N|                Y|\n",
            "|R1SQKXYWU7VMW1|          2|           23|         24|   N|                Y|\n",
            "| RUL6FPHYI15TA|          2|           62|         70|   N|                Y|\n",
            "|R1K2O880XPCW4V|          2|           26|         27|   N|                Y|\n",
            "|R2KA15AG14I5I5|          5|           72|         81|   N|                Y|\n",
            "|R3VCE57VVGPHHA|          5|           69|         71|   N|                Y|\n",
            "|R3GEWL61MS0MVE|          5|           23|         24|   N|                Y|\n",
            "|R1X06G0PTXOA61|          1|           28|         32|   N|                Y|\n",
            "|R3IC3894IEJK1S|          2|           32|         32|   N|                Y|\n",
            "|R2VB64562OSKEV|          1|            6|         24|   N|                N|\n",
            "|R2W1OMYJERBXJ1|          5|           20|         23|   Y|                N|\n",
            "|R2TNQ0ZPP5F8D5|          1|            6|         24|   N|                Y|\n",
            "|R17CIVFMQGURJZ|          5|           24|         28|   N|                Y|\n",
            "+--------------+-----------+-------------+-----------+----+-----------------+\n",
            "only showing top 20 rows\n",
            "\n"
          ]
        }
      ],
      "source": [
        "# More than 20 total votes\n",
        "vine_filtered_votes_df = vine_df.filter(\"total_votes>=20\")\n",
        "vine_filtered_votes_df.show()"
      ]
    },
    {
      "cell_type": "code",
      "execution_count": null,
      "metadata": {
        "colab": {
          "base_uri": "https://localhost:8080/"
        },
        "id": "MkqyCuNQY-9-",
        "outputId": "07c46b99-fc01-468c-d718-d2384064bdb6"
      },
      "outputs": [
        {
          "name": "stdout",
          "output_type": "stream",
          "text": [
            "+--------------+-----------+-------------+-----------+----+-----------------+\n",
            "|     review_id|star_rating|helpful_votes|total_votes|vine|verified_purchase|\n",
            "+--------------+-----------+-------------+-----------+----+-----------------+\n",
            "|R27XX9MG7OWSSM|          5|           49|         51|   N|                Y|\n",
            "|R1I4IFDOW6IW9O|          3|           44|         47|   N|                Y|\n",
            "|R2LZAV3VMLGPGS|          3|           32|         33|   N|                Y|\n",
            "|R3FITR2BQI94RA|          5|           33|         38|   N|                Y|\n",
            "| RWYBT1R3KPD2M|          4|          142|        163|   N|                Y|\n",
            "| RE4023DS92U8H|          5|           26|         27|   N|                Y|\n",
            "|R25TLB0EXZ7DJZ|          5|           45|         46|   N|                Y|\n",
            "|R1SQKXYWU7VMW1|          2|           23|         24|   N|                Y|\n",
            "| RUL6FPHYI15TA|          2|           62|         70|   N|                Y|\n",
            "|R1K2O880XPCW4V|          2|           26|         27|   N|                Y|\n",
            "|R2KA15AG14I5I5|          5|           72|         81|   N|                Y|\n",
            "|R3VCE57VVGPHHA|          5|           69|         71|   N|                Y|\n",
            "|R3GEWL61MS0MVE|          5|           23|         24|   N|                Y|\n",
            "|R1X06G0PTXOA61|          1|           28|         32|   N|                Y|\n",
            "|R3IC3894IEJK1S|          2|           32|         32|   N|                Y|\n",
            "|R2W1OMYJERBXJ1|          5|           20|         23|   Y|                N|\n",
            "|R17CIVFMQGURJZ|          5|           24|         28|   N|                Y|\n",
            "|R1M8O6WQETX2EQ|          5|           39|         40|   N|                Y|\n",
            "|R30I77Z7JCPVTR|          5|           22|         22|   N|                Y|\n",
            "|R2BEMCDEIKZ1AZ|          5|           22|         25|   N|                Y|\n",
            "+--------------+-----------+-------------+-----------+----+-----------------+\n",
            "only showing top 20 rows\n",
            "\n"
          ]
        }
      ],
      "source": [
        "# More than 20 total votes, More than 50% helpful\n",
        "vine_helpful_by_total_df = vine_filtered_votes_df.filter(\"(helpful_votes/total_votes)>=0.5\")\n",
        "vine_helpful_by_total_df.show()"
      ]
    },
    {
      "cell_type": "code",
      "execution_count": null,
      "metadata": {
        "colab": {
          "base_uri": "https://localhost:8080/"
        },
        "id": "lzMmkdKmY--D",
        "outputId": "a0d90321-e97f-45c6-819d-6e3451b4e72f"
      },
      "outputs": [
        {
          "name": "stdout",
          "output_type": "stream",
          "text": [
            "+--------------+-----------+-------------+-----------+----+-----------------+\n",
            "|     review_id|star_rating|helpful_votes|total_votes|vine|verified_purchase|\n",
            "+--------------+-----------+-------------+-----------+----+-----------------+\n",
            "|R2W1OMYJERBXJ1|          5|           20|         23|   Y|                N|\n",
            "| R31VJCBBKU13Y|          5|           24|         27|   Y|                N|\n",
            "|R350JNDV0INC11|          4|          388|        398|   Y|                Y|\n",
            "|R2NJA2I5C9Y0FR|          3|           63|         73|   Y|                N|\n",
            "|R296RSG25RD1IX|          3|           46|         51|   Y|                N|\n",
            "|R3IJKA4RI56TFT|          4|           25|         30|   Y|                N|\n",
            "|R1EU2LNHAWWPFI|          5|           19|         24|   Y|                N|\n",
            "|R164L6F7QRHL8A|          5|           94|        109|   Y|                N|\n",
            "|R3VONEXS4LRVWK|          3|          378|        388|   Y|                N|\n",
            "| RYO3NDB745QIW|          5|           33|         37|   Y|                N|\n",
            "|R1Q9CN3ONUQPFY|          4|           26|         27|   Y|                N|\n",
            "|R3DOAUYPM5PRP5|          4|          304|        311|   Y|                N|\n",
            "|R1MBYFHSDKQWTR|          5|           15|         21|   Y|                N|\n",
            "|R2HIF4HK7B30PK|          5|           75|         80|   Y|                N|\n",
            "|R3VZPEQEFY6RC9|          4|           34|         37|   Y|                N|\n",
            "|R2C65P5YI2T5U6|          5|           20|         22|   Y|                N|\n",
            "|R3SB6ISY0UPLHY|          5|           25|         28|   Y|                N|\n",
            "|R3103BJSOISEON|          4|           19|         21|   Y|                N|\n",
            "|R3SVBM51RHF5YB|          4|           78|         87|   Y|                N|\n",
            "| R7FUHZ0TN5WEX|          4|           24|         29|   Y|                N|\n",
            "+--------------+-----------+-------------+-----------+----+-----------------+\n",
            "only showing top 20 rows\n",
            "\n"
          ]
        }
      ],
      "source": [
        "# Paid reviews, More than 50% helpful\n",
        "vine_paid_helpful_df = vine_helpful_by_total_df.filter(\"vine == 'Y'\")\n",
        "vine_paid_helpful_df.show()"
      ]
    },
    {
      "cell_type": "code",
      "execution_count": null,
      "metadata": {
        "colab": {
          "base_uri": "https://localhost:8080/"
        },
        "id": "yRuIhCuTs7im",
        "outputId": "e48fed6f-78a8-42e1-c164-84fb340f63cc"
      },
      "outputs": [
        {
          "name": "stdout",
          "output_type": "stream",
          "text": [
            "+--------------+-----------+-------------+-----------+----+-----------------+\n",
            "|     review_id|star_rating|helpful_votes|total_votes|vine|verified_purchase|\n",
            "+--------------+-----------+-------------+-----------+----+-----------------+\n",
            "|R27XX9MG7OWSSM|          5|           49|         51|   N|                Y|\n",
            "|R1I4IFDOW6IW9O|          3|           44|         47|   N|                Y|\n",
            "|R2LZAV3VMLGPGS|          3|           32|         33|   N|                Y|\n",
            "|R3FITR2BQI94RA|          5|           33|         38|   N|                Y|\n",
            "| RWYBT1R3KPD2M|          4|          142|        163|   N|                Y|\n",
            "| RE4023DS92U8H|          5|           26|         27|   N|                Y|\n",
            "|R25TLB0EXZ7DJZ|          5|           45|         46|   N|                Y|\n",
            "|R1SQKXYWU7VMW1|          2|           23|         24|   N|                Y|\n",
            "| RUL6FPHYI15TA|          2|           62|         70|   N|                Y|\n",
            "|R1K2O880XPCW4V|          2|           26|         27|   N|                Y|\n",
            "|R2KA15AG14I5I5|          5|           72|         81|   N|                Y|\n",
            "|R3VCE57VVGPHHA|          5|           69|         71|   N|                Y|\n",
            "|R3GEWL61MS0MVE|          5|           23|         24|   N|                Y|\n",
            "|R1X06G0PTXOA61|          1|           28|         32|   N|                Y|\n",
            "|R3IC3894IEJK1S|          2|           32|         32|   N|                Y|\n",
            "|R17CIVFMQGURJZ|          5|           24|         28|   N|                Y|\n",
            "|R1M8O6WQETX2EQ|          5|           39|         40|   N|                Y|\n",
            "|R30I77Z7JCPVTR|          5|           22|         22|   N|                Y|\n",
            "|R2BEMCDEIKZ1AZ|          5|           22|         25|   N|                Y|\n",
            "|R34AP9KC4GV107|          1|           18|         23|   N|                N|\n",
            "+--------------+-----------+-------------+-----------+----+-----------------+\n",
            "only showing top 20 rows\n",
            "\n"
          ]
        }
      ],
      "source": [
        "# Unpaid reviews, More than 50% helpful\n",
        "vine_unpaid_helpful_df = vine_helpful_by_total_df.filter(\"vine == 'N'\")\n",
        "vine_unpaid_helpful_df.show()"
      ]
    },
    {
      "cell_type": "markdown",
      "metadata": {
        "id": "jITZhLkmY--J"
      },
      "source": [
        "### Totals\n"
      ]
    },
    {
      "cell_type": "code",
      "execution_count": null,
      "metadata": {
        "colab": {
          "base_uri": "https://localhost:8080/"
        },
        "id": "7jiUvs1aY--L",
        "outputId": "8c152139-709e-412c-ea14-7e16193995fc"
      },
      "outputs": [
        {
          "data": {
            "text/plain": [
              "143285"
            ]
          },
          "execution_count": 34,
          "metadata": {},
          "output_type": "execute_result"
        }
      ],
      "source": [
        "# Total number of reviews\n",
        "total_reviews_ct = vine_helpful_by_total_df.count()\n",
        "total_reviews_ct"
      ]
    },
    {
      "cell_type": "code",
      "execution_count": null,
      "metadata": {
        "colab": {
          "base_uri": "https://localhost:8080/"
        },
        "id": "T2zgZ-aKY--Q",
        "outputId": "4464a201-954a-43d4-f1ad-a61579366b5d"
      },
      "outputs": [
        {
          "data": {
            "text/plain": [
              "2055"
            ]
          },
          "execution_count": 35,
          "metadata": {},
          "output_type": "execute_result"
        }
      ],
      "source": [
        "# Total paid reviews\n",
        "total_paid_reviews_df = vine_helpful_by_total_df.filter(\"vine =='Y'\")\n",
        "total_paid_reviews_ct = total_paid_reviews_df.coun\n",
        "total_paid_reviews_ct"
      ]
    },
    {
      "cell_type": "code",
      "execution_count": null,
      "metadata": {
        "colab": {
          "base_uri": "https://localhost:8080/"
        },
        "id": "1m3yzn-LY--U",
        "outputId": "8f833b10-f7d2-4673-a13a-2999918c8908"
      },
      "outputs": [
        {
          "data": {
            "text/plain": [
              "141230"
            ]
          },
          "execution_count": 36,
          "metadata": {},
          "output_type": "execute_result"
        }
      ],
      "source": [
        "# Total unpaid reviews\n",
        "total_unpaid_reviews_df = vine_helpful_by_total_df.filter(\"vine =='N'\")\n",
        "total_unpaid_reviews_ct = total_unpaid_reviews_df.count()\n",
        "total_unpaid_reviews_ct"
      ]
    },
    {
      "cell_type": "code",
      "execution_count": null,
      "metadata": {
        "colab": {
          "base_uri": "https://localhost:8080/"
        },
        "id": "KbXri15fY--Z",
        "outputId": "6b6f4ea8-8025-4105-fbec-8b7fc3ccfcf8"
      },
      "outputs": [
        {
          "data": {
            "text/plain": [
              "70193"
            ]
          },
          "execution_count": 37,
          "metadata": {},
          "output_type": "execute_result"
        }
      ],
      "source": [
        "# Total five-star reviews\n",
        "total_five_star_reviews_df = vine_helpful_by_total_df.filter(\"star_rating == 5\")\n",
        "total_five_star_reviews_ct = total_five_star_reviews_df.count()\n",
        "total_five_star_reviews_ct"
      ]
    },
    {
      "cell_type": "code",
      "execution_count": null,
      "metadata": {
        "colab": {
          "background_save": true,
          "base_uri": "https://localhost:8080/"
        },
        "id": "XdQknSHLY--e",
        "outputId": "22bc50eb-6e72-4b2e-94aa-644701523213"
      },
      "outputs": [
        {
          "data": {
            "text/plain": [
              "904"
            ]
          },
          "execution_count": 38,
          "metadata": {},
          "output_type": "execute_result"
        }
      ],
      "source": [
        "# Total five-star paid reviews\n",
        "five_star_paid_reviews_df = total_paid_reviews_df.filter(\"star_rating == 5\")\n",
        "five_star_paid_reviews_ct = five_star_paid_reviews_df.count()\n",
        "five_star_paid_reviews_ct"
      ]
    },
    {
      "cell_type": "code",
      "execution_count": null,
      "metadata": {
        "id": "Exuo6ebUsCqW",
        "colab": {
          "base_uri": "https://localhost:8080/"
        },
        "outputId": "959dbb2a-3746-43c5-9126-d2188b71da8a"
      },
      "outputs": [
        {
          "output_type": "execute_result",
          "data": {
            "text/plain": [
              "71941"
            ]
          },
          "metadata": {},
          "execution_count": 44
        }
      ],
      "source": [
        "# Total five-star unpaid reviews\n",
        "five_star_unpaid_reviews_df = total_unpaid_reviews_df.filter(\"star_rating < 5\")\n",
        "five_star_unpaid_reviews_ct = five_star_unpaid_reviews_df.count()\n",
        "five_star_unpaid_reviews_ct"
      ]
    },
    {
      "cell_type": "code",
      "execution_count": null,
      "metadata": {
        "colab": {
          "background_save": true
        },
        "id": "dySObajTtfL8",
        "outputId": "df805cd0-db86-463a-a90a-f6fbebc74baf"
      },
      "outputs": [
        {
          "data": {
            "text/plain": [
              "43.99"
            ]
          },
          "execution_count": 40,
          "metadata": {},
          "output_type": "execute_result"
        }
      ],
      "source": [
        "# Five-star paid reviews as percent of total paid reviews\n",
        "paid_five_star_per_total_paid = (five_star_paid_reviews_ct/total_paid_reviews_ct)*100\n",
        "round(paid_five_star_per_total_paid, 3)"
      ]
    },
    {
      "cell_type": "code",
      "execution_count": null,
      "metadata": {
        "id": "Rhltl708tiqq",
        "colab": {
          "base_uri": "https://localhost:8080/"
        },
        "outputId": "24b67d86-8260-4ddd-b490-7f486f0bf06d"
      },
      "outputs": [
        {
          "output_type": "execute_result",
          "data": {
            "text/plain": [
              "50.939"
            ]
          },
          "metadata": {},
          "execution_count": 46
        }
      ],
      "source": [
        "# Five-star unpaid reviews as percent of total unpaid reviews\n",
        "unpaid_five_star_per_total_unpaid = (five_star_unpaid_reviews_ct/total_unpaid_reviews_ct)*100\n",
        "round(unpaid_five_star_per_total_unpaid, 3)"
      ]
    },
    {
      "cell_type": "code",
      "execution_count": null,
      "metadata": {
        "id": "TbUDYYjHtg8r",
        "colab": {
          "base_uri": "https://localhost:8080/"
        },
        "outputId": "5615d163-3692-4077-ded1-35817db59265"
      },
      "outputs": [
        {
          "output_type": "execute_result",
          "data": {
            "text/plain": [
              "1.288"
            ]
          },
          "metadata": {},
          "execution_count": 45
        }
      ],
      "source": [
        "# Paid reviews as percent of total five-star reviews\n",
        "paid_five_star_per_five_star_total = (five_star_paid_reviews_ct/total_five_star_reviews_ct)*100\n",
        "round(paid_five_star_per_five_star_total, 3)"
      ]
    },
    {
      "cell_type": "code",
      "execution_count": null,
      "metadata": {
        "id": "EjIdgo14tjRX",
        "colab": {
          "base_uri": "https://localhost:8080/"
        },
        "outputId": "97cc5a62-4ee7-49ce-a979-f28315cb16c3"
      },
      "outputs": [
        {
          "output_type": "execute_result",
          "data": {
            "text/plain": [
              "102.49"
            ]
          },
          "metadata": {},
          "execution_count": 47
        }
      ],
      "source": [
        "# Five-star unpaid reviews as percent of total five-star reviews\n",
        "unpaid_five_star_per_five_star_total = (five_star_unpaid_reviews_ct/total_five_star_reviews_ct)*100\n",
        "round(unpaid_five_star_per_five_star_total, 3)"
      ]
    }
  ],
  "metadata": {
    "colab": {
      "collapsed_sections": [],
      "name": "Vine_Review_Analysis.ipynb",
      "provenance": [],
      "include_colab_link": true
    },
    "kernelspec": {
      "display_name": "Python 3",
      "name": "python3"
    },
    "language_info": {
      "name": "python"
    },
    "nteract": {
      "version": "0.12.3"
    }
  },
  "nbformat": 4,
  "nbformat_minor": 0
}